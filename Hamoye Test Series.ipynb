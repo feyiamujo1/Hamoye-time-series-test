{
 "cells": [
  {
   "cell_type": "code",
   "execution_count": 1,
   "id": "9ccea7c2",
   "metadata": {
    "scrolled": true
   },
   "outputs": [
    {
     "name": "stderr",
     "output_type": "stream",
     "text": [
      "C:\\Users\\Feyi\\Anaconda3\\envs\\tf\\lib\\site-packages\\numpy\\_distributor_init.py:32: UserWarning: loaded more than 1 DLL from .libs:\n",
      "C:\\Users\\Feyi\\Anaconda3\\envs\\tf\\lib\\site-packages\\numpy\\.libs\\libopenblas.PYQHXLVVQ7VESDPUVUADXEVJOBGHJPAY.gfortran-win_amd64.dll\n",
      "C:\\Users\\Feyi\\Anaconda3\\envs\\tf\\lib\\site-packages\\numpy\\.libs\\libopenblas.WCDJNK7YVMPZQ2ME2ZZHJJRJ3JIKNDB7.gfortran-win_amd64.dll\n",
      "C:\\Users\\Feyi\\Anaconda3\\envs\\tf\\lib\\site-packages\\numpy\\.libs\\libopenblas.XWYDX2IKJW2NMTWSFYNGFUWKQU3LYTCZ.gfortran-win_amd64.dll\n",
      "  stacklevel=1)\n"
     ]
    }
   ],
   "source": [
    "import numpy as np\n",
    "import pandas as pd\n",
    "import matplotlib.pyplot as plt"
   ]
  },
  {
   "cell_type": "markdown",
   "id": "a041b3bc",
   "metadata": {},
   "source": [
    "# Loading Dataset"
   ]
  },
  {
   "cell_type": "code",
   "execution_count": 2,
   "id": "fcde0d66",
   "metadata": {},
   "outputs": [
    {
     "data": {
      "text/html": [
       "<div>\n",
       "<style scoped>\n",
       "    .dataframe tbody tr th:only-of-type {\n",
       "        vertical-align: middle;\n",
       "    }\n",
       "\n",
       "    .dataframe tbody tr th {\n",
       "        vertical-align: top;\n",
       "    }\n",
       "\n",
       "    .dataframe thead th {\n",
       "        text-align: right;\n",
       "    }\n",
       "</style>\n",
       "<table border=\"1\" class=\"dataframe\">\n",
       "  <thead>\n",
       "    <tr style=\"text-align: right;\">\n",
       "      <th></th>\n",
       "      <th>FullDate</th>\n",
       "      <th>Tmax</th>\n",
       "      <th>SysLoad</th>\n",
       "      <th>GasPrice</th>\n",
       "      <th>ElecPrice</th>\n",
       "    </tr>\n",
       "  </thead>\n",
       "  <tbody>\n",
       "    <tr>\n",
       "      <th>0</th>\n",
       "      <td>2010-09-01 00:00:00</td>\n",
       "      <td>15.8</td>\n",
       "      <td>1688.215</td>\n",
       "      <td>3.69</td>\n",
       "      <td>23.710</td>\n",
       "    </tr>\n",
       "    <tr>\n",
       "      <th>1</th>\n",
       "      <td>2010-09-01 01:00:00</td>\n",
       "      <td>15.8</td>\n",
       "      <td>1669.195</td>\n",
       "      <td>3.69</td>\n",
       "      <td>22.635</td>\n",
       "    </tr>\n",
       "    <tr>\n",
       "      <th>2</th>\n",
       "      <td>2010-09-01 02:00:00</td>\n",
       "      <td>15.8</td>\n",
       "      <td>1491.980</td>\n",
       "      <td>3.69</td>\n",
       "      <td>22.565</td>\n",
       "    </tr>\n",
       "    <tr>\n",
       "      <th>3</th>\n",
       "      <td>2010-09-01 03:00:00</td>\n",
       "      <td>15.8</td>\n",
       "      <td>1330.760</td>\n",
       "      <td>3.69</td>\n",
       "      <td>18.910</td>\n",
       "    </tr>\n",
       "    <tr>\n",
       "      <th>4</th>\n",
       "      <td>2010-09-01 04:00:00</td>\n",
       "      <td>15.8</td>\n",
       "      <td>1247.940</td>\n",
       "      <td>3.69</td>\n",
       "      <td>18.030</td>\n",
       "    </tr>\n",
       "    <tr>\n",
       "      <th>5</th>\n",
       "      <td>2010-09-01 05:00:00</td>\n",
       "      <td>15.8</td>\n",
       "      <td>1232.000</td>\n",
       "      <td>3.69</td>\n",
       "      <td>19.160</td>\n",
       "    </tr>\n",
       "    <tr>\n",
       "      <th>6</th>\n",
       "      <td>2010-09-01 06:00:00</td>\n",
       "      <td>15.8</td>\n",
       "      <td>1282.930</td>\n",
       "      <td>3.69</td>\n",
       "      <td>23.540</td>\n",
       "    </tr>\n",
       "    <tr>\n",
       "      <th>7</th>\n",
       "      <td>2010-09-01 07:00:00</td>\n",
       "      <td>15.8</td>\n",
       "      <td>1430.935</td>\n",
       "      <td>3.69</td>\n",
       "      <td>26.235</td>\n",
       "    </tr>\n",
       "    <tr>\n",
       "      <th>8</th>\n",
       "      <td>2010-09-01 08:00:00</td>\n",
       "      <td>15.8</td>\n",
       "      <td>1670.275</td>\n",
       "      <td>3.69</td>\n",
       "      <td>28.690</td>\n",
       "    </tr>\n",
       "    <tr>\n",
       "      <th>9</th>\n",
       "      <td>2010-09-01 09:00:00</td>\n",
       "      <td>15.8</td>\n",
       "      <td>1815.155</td>\n",
       "      <td>3.69</td>\n",
       "      <td>29.630</td>\n",
       "    </tr>\n",
       "  </tbody>\n",
       "</table>\n",
       "</div>"
      ],
      "text/plain": [
       "              FullDate  Tmax   SysLoad  GasPrice  ElecPrice\n",
       "0  2010-09-01 00:00:00  15.8  1688.215      3.69     23.710\n",
       "1  2010-09-01 01:00:00  15.8  1669.195      3.69     22.635\n",
       "2  2010-09-01 02:00:00  15.8  1491.980      3.69     22.565\n",
       "3  2010-09-01 03:00:00  15.8  1330.760      3.69     18.910\n",
       "4  2010-09-01 04:00:00  15.8  1247.940      3.69     18.030\n",
       "5  2010-09-01 05:00:00  15.8  1232.000      3.69     19.160\n",
       "6  2010-09-01 06:00:00  15.8  1282.930      3.69     23.540\n",
       "7  2010-09-01 07:00:00  15.8  1430.935      3.69     26.235\n",
       "8  2010-09-01 08:00:00  15.8  1670.275      3.69     28.690\n",
       "9  2010-09-01 09:00:00  15.8  1815.155      3.69     29.630"
      ]
     },
     "execution_count": 2,
     "metadata": {},
     "output_type": "execute_result"
    }
   ],
   "source": [
    "time_series_dataset=pd.read_csv(r\"Time_series_analysis_and_forecast_DATASET.csv\")\n",
    "time_series_dataset.head(10)"
   ]
  },
  {
   "cell_type": "markdown",
   "id": "7539a6dd",
   "metadata": {},
   "source": [
    "# Data Cleaning"
   ]
  },
  {
   "cell_type": "code",
   "execution_count": 3,
   "id": "4332da44",
   "metadata": {},
   "outputs": [
    {
     "data": {
      "text/plain": [
       "Index(['FullDate', 'Tmax', 'SysLoad', 'GasPrice', 'ElecPrice'], dtype='object')"
      ]
     },
     "execution_count": 3,
     "metadata": {},
     "output_type": "execute_result"
    }
   ],
   "source": [
    "time_series_dataset.columns"
   ]
  },
  {
   "cell_type": "code",
   "execution_count": 4,
   "id": "e457abe0",
   "metadata": {},
   "outputs": [
    {
     "data": {
      "text/plain": [
       "(92016, 5)"
      ]
     },
     "execution_count": 4,
     "metadata": {},
     "output_type": "execute_result"
    }
   ],
   "source": [
    "time_series_dataset.shape"
   ]
  },
  {
   "cell_type": "code",
   "execution_count": 5,
   "id": "254fde33",
   "metadata": {},
   "outputs": [
    {
     "name": "stdout",
     "output_type": "stream",
     "text": [
      "<class 'pandas.core.frame.DataFrame'>\n",
      "RangeIndex: 92016 entries, 0 to 92015\n",
      "Data columns (total 5 columns):\n",
      " #   Column     Non-Null Count  Dtype  \n",
      "---  ------     --------------  -----  \n",
      " 0   FullDate   92016 non-null  object \n",
      " 1   Tmax       92016 non-null  float64\n",
      " 2   SysLoad    92016 non-null  float64\n",
      " 3   GasPrice   92016 non-null  float64\n",
      " 4   ElecPrice  92016 non-null  float64\n",
      "dtypes: float64(4), object(1)\n",
      "memory usage: 3.5+ MB\n"
     ]
    }
   ],
   "source": [
    "#Check datatype\n",
    "time_series_dataset.info()"
   ]
  },
  {
   "cell_type": "code",
   "execution_count": 6,
   "id": "70d0c615",
   "metadata": {},
   "outputs": [],
   "source": [
    "#convert the \"FullDate\" feature from \"object\" to \"datetime\" datatype\n",
    "time_series_dataset.FullDate = pd.to_datetime(time_series_dataset.FullDate)"
   ]
  },
  {
   "cell_type": "code",
   "execution_count": 7,
   "id": "19c7a7da",
   "metadata": {},
   "outputs": [
    {
     "name": "stdout",
     "output_type": "stream",
     "text": [
      "<class 'pandas.core.frame.DataFrame'>\n",
      "RangeIndex: 92016 entries, 0 to 92015\n",
      "Data columns (total 5 columns):\n",
      " #   Column     Non-Null Count  Dtype         \n",
      "---  ------     --------------  -----         \n",
      " 0   FullDate   92016 non-null  datetime64[ns]\n",
      " 1   Tmax       92016 non-null  float64       \n",
      " 2   SysLoad    92016 non-null  float64       \n",
      " 3   GasPrice   92016 non-null  float64       \n",
      " 4   ElecPrice  92016 non-null  float64       \n",
      "dtypes: datetime64[ns](1), float64(4)\n",
      "memory usage: 3.5 MB\n"
     ]
    }
   ],
   "source": [
    "#Check datatype again\n",
    "time_series_dataset.info()"
   ]
  },
  {
   "cell_type": "code",
   "execution_count": 8,
   "id": "42ef2adf",
   "metadata": {},
   "outputs": [
    {
     "data": {
      "text/plain": [
       "False"
      ]
     },
     "execution_count": 8,
     "metadata": {},
     "output_type": "execute_result"
    }
   ],
   "source": [
    "#check if there is any missing values\n",
    "time_series_dataset.isnull().values.any()"
   ]
  },
  {
   "cell_type": "code",
   "execution_count": 9,
   "id": "ff990499",
   "metadata": {},
   "outputs": [
    {
     "data": {
      "text/html": [
       "<div>\n",
       "<style scoped>\n",
       "    .dataframe tbody tr th:only-of-type {\n",
       "        vertical-align: middle;\n",
       "    }\n",
       "\n",
       "    .dataframe tbody tr th {\n",
       "        vertical-align: top;\n",
       "    }\n",
       "\n",
       "    .dataframe thead th {\n",
       "        text-align: right;\n",
       "    }\n",
       "</style>\n",
       "<table border=\"1\" class=\"dataframe\">\n",
       "  <thead>\n",
       "    <tr style=\"text-align: right;\">\n",
       "      <th></th>\n",
       "      <th>FullDate</th>\n",
       "      <th>Tmax</th>\n",
       "      <th>SysLoad</th>\n",
       "      <th>GasPrice</th>\n",
       "      <th>ElecPrice</th>\n",
       "    </tr>\n",
       "  </thead>\n",
       "  <tbody>\n",
       "    <tr>\n",
       "      <th>0</th>\n",
       "      <td>2010-09-01 00:00:00</td>\n",
       "      <td>15.8</td>\n",
       "      <td>1688.215</td>\n",
       "      <td>3.69</td>\n",
       "      <td>23.710</td>\n",
       "    </tr>\n",
       "    <tr>\n",
       "      <th>1</th>\n",
       "      <td>2010-09-01 01:00:00</td>\n",
       "      <td>15.8</td>\n",
       "      <td>1669.195</td>\n",
       "      <td>3.69</td>\n",
       "      <td>22.635</td>\n",
       "    </tr>\n",
       "    <tr>\n",
       "      <th>2</th>\n",
       "      <td>2010-09-01 02:00:00</td>\n",
       "      <td>15.8</td>\n",
       "      <td>1491.980</td>\n",
       "      <td>3.69</td>\n",
       "      <td>22.565</td>\n",
       "    </tr>\n",
       "    <tr>\n",
       "      <th>3</th>\n",
       "      <td>2010-09-01 03:00:00</td>\n",
       "      <td>15.8</td>\n",
       "      <td>1330.760</td>\n",
       "      <td>3.69</td>\n",
       "      <td>18.910</td>\n",
       "    </tr>\n",
       "    <tr>\n",
       "      <th>4</th>\n",
       "      <td>2010-09-01 04:00:00</td>\n",
       "      <td>15.8</td>\n",
       "      <td>1247.940</td>\n",
       "      <td>3.69</td>\n",
       "      <td>18.030</td>\n",
       "    </tr>\n",
       "    <tr>\n",
       "      <th>5</th>\n",
       "      <td>2010-09-01 05:00:00</td>\n",
       "      <td>15.8</td>\n",
       "      <td>1232.000</td>\n",
       "      <td>3.69</td>\n",
       "      <td>19.160</td>\n",
       "    </tr>\n",
       "    <tr>\n",
       "      <th>6</th>\n",
       "      <td>2010-09-01 06:00:00</td>\n",
       "      <td>15.8</td>\n",
       "      <td>1282.930</td>\n",
       "      <td>3.69</td>\n",
       "      <td>23.540</td>\n",
       "    </tr>\n",
       "    <tr>\n",
       "      <th>7</th>\n",
       "      <td>2010-09-01 07:00:00</td>\n",
       "      <td>15.8</td>\n",
       "      <td>1430.935</td>\n",
       "      <td>3.69</td>\n",
       "      <td>26.235</td>\n",
       "    </tr>\n",
       "    <tr>\n",
       "      <th>8</th>\n",
       "      <td>2010-09-01 08:00:00</td>\n",
       "      <td>15.8</td>\n",
       "      <td>1670.275</td>\n",
       "      <td>3.69</td>\n",
       "      <td>28.690</td>\n",
       "    </tr>\n",
       "    <tr>\n",
       "      <th>9</th>\n",
       "      <td>2010-09-01 09:00:00</td>\n",
       "      <td>15.8</td>\n",
       "      <td>1815.155</td>\n",
       "      <td>3.69</td>\n",
       "      <td>29.630</td>\n",
       "    </tr>\n",
       "  </tbody>\n",
       "</table>\n",
       "</div>"
      ],
      "text/plain": [
       "             FullDate  Tmax   SysLoad  GasPrice  ElecPrice\n",
       "0 2010-09-01 00:00:00  15.8  1688.215      3.69     23.710\n",
       "1 2010-09-01 01:00:00  15.8  1669.195      3.69     22.635\n",
       "2 2010-09-01 02:00:00  15.8  1491.980      3.69     22.565\n",
       "3 2010-09-01 03:00:00  15.8  1330.760      3.69     18.910\n",
       "4 2010-09-01 04:00:00  15.8  1247.940      3.69     18.030\n",
       "5 2010-09-01 05:00:00  15.8  1232.000      3.69     19.160\n",
       "6 2010-09-01 06:00:00  15.8  1282.930      3.69     23.540\n",
       "7 2010-09-01 07:00:00  15.8  1430.935      3.69     26.235\n",
       "8 2010-09-01 08:00:00  15.8  1670.275      3.69     28.690\n",
       "9 2010-09-01 09:00:00  15.8  1815.155      3.69     29.630"
      ]
     },
     "execution_count": 9,
     "metadata": {},
     "output_type": "execute_result"
    }
   ],
   "source": [
    "time_series_dataset.head(10)"
   ]
  },
  {
   "cell_type": "code",
   "execution_count": 10,
   "id": "75857583",
   "metadata": {},
   "outputs": [],
   "source": [
    "#Set FullData column as the index\n",
    "time_series_dataset.set_index('FullDate', inplace=True)"
   ]
  },
  {
   "cell_type": "code",
   "execution_count": 11,
   "id": "5e0af6e9",
   "metadata": {},
   "outputs": [
    {
     "data": {
      "text/html": [
       "<div>\n",
       "<style scoped>\n",
       "    .dataframe tbody tr th:only-of-type {\n",
       "        vertical-align: middle;\n",
       "    }\n",
       "\n",
       "    .dataframe tbody tr th {\n",
       "        vertical-align: top;\n",
       "    }\n",
       "\n",
       "    .dataframe thead th {\n",
       "        text-align: right;\n",
       "    }\n",
       "</style>\n",
       "<table border=\"1\" class=\"dataframe\">\n",
       "  <thead>\n",
       "    <tr style=\"text-align: right;\">\n",
       "      <th></th>\n",
       "      <th>Tmax</th>\n",
       "      <th>SysLoad</th>\n",
       "      <th>GasPrice</th>\n",
       "      <th>ElecPrice</th>\n",
       "    </tr>\n",
       "    <tr>\n",
       "      <th>FullDate</th>\n",
       "      <th></th>\n",
       "      <th></th>\n",
       "      <th></th>\n",
       "      <th></th>\n",
       "    </tr>\n",
       "  </thead>\n",
       "  <tbody>\n",
       "    <tr>\n",
       "      <th>2010-09-01 00:00:00</th>\n",
       "      <td>15.8</td>\n",
       "      <td>1688.215</td>\n",
       "      <td>3.69</td>\n",
       "      <td>23.710</td>\n",
       "    </tr>\n",
       "    <tr>\n",
       "      <th>2010-09-01 01:00:00</th>\n",
       "      <td>15.8</td>\n",
       "      <td>1669.195</td>\n",
       "      <td>3.69</td>\n",
       "      <td>22.635</td>\n",
       "    </tr>\n",
       "    <tr>\n",
       "      <th>2010-09-01 02:00:00</th>\n",
       "      <td>15.8</td>\n",
       "      <td>1491.980</td>\n",
       "      <td>3.69</td>\n",
       "      <td>22.565</td>\n",
       "    </tr>\n",
       "    <tr>\n",
       "      <th>2010-09-01 03:00:00</th>\n",
       "      <td>15.8</td>\n",
       "      <td>1330.760</td>\n",
       "      <td>3.69</td>\n",
       "      <td>18.910</td>\n",
       "    </tr>\n",
       "    <tr>\n",
       "      <th>2010-09-01 04:00:00</th>\n",
       "      <td>15.8</td>\n",
       "      <td>1247.940</td>\n",
       "      <td>3.69</td>\n",
       "      <td>18.030</td>\n",
       "    </tr>\n",
       "    <tr>\n",
       "      <th>2010-09-01 05:00:00</th>\n",
       "      <td>15.8</td>\n",
       "      <td>1232.000</td>\n",
       "      <td>3.69</td>\n",
       "      <td>19.160</td>\n",
       "    </tr>\n",
       "    <tr>\n",
       "      <th>2010-09-01 06:00:00</th>\n",
       "      <td>15.8</td>\n",
       "      <td>1282.930</td>\n",
       "      <td>3.69</td>\n",
       "      <td>23.540</td>\n",
       "    </tr>\n",
       "    <tr>\n",
       "      <th>2010-09-01 07:00:00</th>\n",
       "      <td>15.8</td>\n",
       "      <td>1430.935</td>\n",
       "      <td>3.69</td>\n",
       "      <td>26.235</td>\n",
       "    </tr>\n",
       "    <tr>\n",
       "      <th>2010-09-01 08:00:00</th>\n",
       "      <td>15.8</td>\n",
       "      <td>1670.275</td>\n",
       "      <td>3.69</td>\n",
       "      <td>28.690</td>\n",
       "    </tr>\n",
       "    <tr>\n",
       "      <th>2010-09-01 09:00:00</th>\n",
       "      <td>15.8</td>\n",
       "      <td>1815.155</td>\n",
       "      <td>3.69</td>\n",
       "      <td>29.630</td>\n",
       "    </tr>\n",
       "  </tbody>\n",
       "</table>\n",
       "</div>"
      ],
      "text/plain": [
       "                     Tmax   SysLoad  GasPrice  ElecPrice\n",
       "FullDate                                                \n",
       "2010-09-01 00:00:00  15.8  1688.215      3.69     23.710\n",
       "2010-09-01 01:00:00  15.8  1669.195      3.69     22.635\n",
       "2010-09-01 02:00:00  15.8  1491.980      3.69     22.565\n",
       "2010-09-01 03:00:00  15.8  1330.760      3.69     18.910\n",
       "2010-09-01 04:00:00  15.8  1247.940      3.69     18.030\n",
       "2010-09-01 05:00:00  15.8  1232.000      3.69     19.160\n",
       "2010-09-01 06:00:00  15.8  1282.930      3.69     23.540\n",
       "2010-09-01 07:00:00  15.8  1430.935      3.69     26.235\n",
       "2010-09-01 08:00:00  15.8  1670.275      3.69     28.690\n",
       "2010-09-01 09:00:00  15.8  1815.155      3.69     29.630"
      ]
     },
     "execution_count": 11,
     "metadata": {},
     "output_type": "execute_result"
    }
   ],
   "source": [
    "time_series_dataset.head(10)"
   ]
  },
  {
   "cell_type": "code",
   "execution_count": 12,
   "id": "92d902c0",
   "metadata": {},
   "outputs": [],
   "source": [
    "#Resample by days\n",
    "daily_resampled_dataset = time_series_dataset.resample('D').sum()"
   ]
  },
  {
   "cell_type": "code",
   "execution_count": 13,
   "id": "92c096c0",
   "metadata": {},
   "outputs": [
    {
     "data": {
      "text/html": [
       "<div>\n",
       "<style scoped>\n",
       "    .dataframe tbody tr th:only-of-type {\n",
       "        vertical-align: middle;\n",
       "    }\n",
       "\n",
       "    .dataframe tbody tr th {\n",
       "        vertical-align: top;\n",
       "    }\n",
       "\n",
       "    .dataframe thead th {\n",
       "        text-align: right;\n",
       "    }\n",
       "</style>\n",
       "<table border=\"1\" class=\"dataframe\">\n",
       "  <thead>\n",
       "    <tr style=\"text-align: right;\">\n",
       "      <th></th>\n",
       "      <th>Tmax</th>\n",
       "      <th>SysLoad</th>\n",
       "      <th>GasPrice</th>\n",
       "      <th>ElecPrice</th>\n",
       "    </tr>\n",
       "    <tr>\n",
       "      <th>FullDate</th>\n",
       "      <th></th>\n",
       "      <th></th>\n",
       "      <th></th>\n",
       "      <th></th>\n",
       "    </tr>\n",
       "  </thead>\n",
       "  <tbody>\n",
       "    <tr>\n",
       "      <th>2010-09-01</th>\n",
       "      <td>379.2</td>\n",
       "      <td>41565.380</td>\n",
       "      <td>88.5600</td>\n",
       "      <td>2751.700</td>\n",
       "    </tr>\n",
       "    <tr>\n",
       "      <th>2010-09-02</th>\n",
       "      <td>369.6</td>\n",
       "      <td>38898.990</td>\n",
       "      <td>88.5600</td>\n",
       "      <td>570.810</td>\n",
       "    </tr>\n",
       "    <tr>\n",
       "      <th>2010-09-03</th>\n",
       "      <td>439.2</td>\n",
       "      <td>41665.760</td>\n",
       "      <td>106.8000</td>\n",
       "      <td>504.975</td>\n",
       "    </tr>\n",
       "    <tr>\n",
       "      <th>2010-09-04</th>\n",
       "      <td>328.8</td>\n",
       "      <td>35638.085</td>\n",
       "      <td>81.3600</td>\n",
       "      <td>502.275</td>\n",
       "    </tr>\n",
       "    <tr>\n",
       "      <th>2010-09-05</th>\n",
       "      <td>357.6</td>\n",
       "      <td>35611.410</td>\n",
       "      <td>106.8000</td>\n",
       "      <td>500.555</td>\n",
       "    </tr>\n",
       "    <tr>\n",
       "      <th>2010-09-06</th>\n",
       "      <td>350.4</td>\n",
       "      <td>42747.865</td>\n",
       "      <td>79.4400</td>\n",
       "      <td>667.190</td>\n",
       "    </tr>\n",
       "    <tr>\n",
       "      <th>2010-09-07</th>\n",
       "      <td>410.4</td>\n",
       "      <td>41837.245</td>\n",
       "      <td>84.2400</td>\n",
       "      <td>664.570</td>\n",
       "    </tr>\n",
       "    <tr>\n",
       "      <th>2010-09-08</th>\n",
       "      <td>446.4</td>\n",
       "      <td>37608.775</td>\n",
       "      <td>114.4776</td>\n",
       "      <td>490.390</td>\n",
       "    </tr>\n",
       "    <tr>\n",
       "      <th>2010-09-09</th>\n",
       "      <td>470.4</td>\n",
       "      <td>37351.660</td>\n",
       "      <td>82.5600</td>\n",
       "      <td>507.040</td>\n",
       "    </tr>\n",
       "    <tr>\n",
       "      <th>2010-09-10</th>\n",
       "      <td>396.0</td>\n",
       "      <td>36989.615</td>\n",
       "      <td>82.5600</td>\n",
       "      <td>166.525</td>\n",
       "    </tr>\n",
       "  </tbody>\n",
       "</table>\n",
       "</div>"
      ],
      "text/plain": [
       "             Tmax    SysLoad  GasPrice  ElecPrice\n",
       "FullDate                                         \n",
       "2010-09-01  379.2  41565.380   88.5600   2751.700\n",
       "2010-09-02  369.6  38898.990   88.5600    570.810\n",
       "2010-09-03  439.2  41665.760  106.8000    504.975\n",
       "2010-09-04  328.8  35638.085   81.3600    502.275\n",
       "2010-09-05  357.6  35611.410  106.8000    500.555\n",
       "2010-09-06  350.4  42747.865   79.4400    667.190\n",
       "2010-09-07  410.4  41837.245   84.2400    664.570\n",
       "2010-09-08  446.4  37608.775  114.4776    490.390\n",
       "2010-09-09  470.4  37351.660   82.5600    507.040\n",
       "2010-09-10  396.0  36989.615   82.5600    166.525"
      ]
     },
     "execution_count": 13,
     "metadata": {},
     "output_type": "execute_result"
    }
   ],
   "source": [
    "daily_resampled_dataset.head(10)"
   ]
  },
  {
   "cell_type": "code",
   "execution_count": 14,
   "id": "774734a6",
   "metadata": {},
   "outputs": [
    {
     "data": {
      "text/plain": [
       "(3834, 4)"
      ]
     },
     "execution_count": 14,
     "metadata": {},
     "output_type": "execute_result"
    }
   ],
   "source": [
    "daily_resampled_dataset.shape"
   ]
  },
  {
   "cell_type": "markdown",
   "id": "596af507",
   "metadata": {},
   "source": [
    "# Data Visualization"
   ]
  },
  {
   "cell_type": "code",
   "execution_count": 15,
   "id": "11b3e471",
   "metadata": {
    "scrolled": true
   },
   "outputs": [
    {
     "data": {
      "image/png": "[encoded data removed]",
      "text/plain": [
       "<Figure size 720x360 with 1 Axes>"
      ]
     },
     "metadata": {
      "needs_background": "light"
     },
     "output_type": "display_data"
    }
   ],
   "source": [
    "#Plot of ElecPrice over time \n",
    "plt.figure(figsize=(10,5))\n",
    "plt.plot(daily_resampled_dataset['ElecPrice'])\n",
    "plt.xlabel('Year')\n",
    "plt.ylabel('Price')\n",
    "plt.title('ElecPrice')\n",
    "plt.grid()\n",
    "plt.show()"
   ]
  },
  {
   "cell_type": "code",
   "execution_count": 16,
   "id": "f6b5ee61",
   "metadata": {
    "scrolled": false
   },
   "outputs": [
    {
     "data": {
      "image/png": "[encoded data removed]",
      "text/plain": [
       "<Figure size 720x360 with 1 Axes>"
      ]
     },
     "metadata": {
      "needs_background": "light"
     },
     "output_type": "display_data"
    }
   ],
   "source": [
    "#Plot of ElecPrice over time \n",
    "plt.figure(figsize=(10,5))\n",
    "plt.plot(daily_resampled_dataset['GasPrice'])\n",
    "plt.xlabel('Year')\n",
    "plt.ylabel('Price')\n",
    "plt.title('GasPrice')\n",
    "plt.grid()\n",
    "plt.show()"
   ]
  },
  {
   "cell_type": "markdown",
   "id": "98eda48d",
   "metadata": {},
   "source": [
    "# Time Series Specific Exploratory Methods"
   ]
  },
  {
   "cell_type": "code",
   "execution_count": 17,
   "id": "def94c2b",
   "metadata": {},
   "outputs": [
    {
     "data": {
      "image/png": "[encoded data removed]",
      "text/plain": [
       "<Figure size 1080x576 with 4 Axes>"
      ]
     },
     "metadata": {
      "needs_background": "light"
     },
     "output_type": "display_data"
    }
   ],
   "source": [
    "import statsmodels.api as sm\n",
    "from pylab import rcParams\n",
    "rcParams[ 'figure.figsize' ] = 15 , 8\n",
    "decompose_series = sm.tsa.seasonal_decompose(daily_resampled_dataset[ 'ElecPrice' ], model= 'additive' )\n",
    "decompose_series.plot()\n",
    "plt.show()"
   ]
  },
  {
   "cell_type": "markdown",
   "id": "a3b99d08",
   "metadata": {},
   "source": [
    "# Augmented Dickey-Fuller test (ADF)"
   ]
  },
  {
   "cell_type": "code",
   "execution_count": 18,
   "id": "a98cde45",
   "metadata": {
    "scrolled": false
   },
   "outputs": [
    {
     "name": "stdout",
     "output_type": "stream",
     "text": [
      "ADF Statistic: -8.269053866873806 \n",
      "p-value: 4.848817773711545e-13 \n",
      "No. of lags used: 20 \n",
      "No. of observations used : 3813 \n",
      "Critical Values:\n",
      " 1% : -3.432066157296446 \n",
      " 5% : -2.8622983040036005 \n",
      " 10% : -2.5671736550459663 \n"
     ]
    }
   ],
   "source": [
    "from statsmodels.tsa.stattools import adfuller\n",
    "#ADF Test for ElecPrice\n",
    "adf_result = adfuller(daily_resampled_dataset[ 'ElecPrice' ])\n",
    "print( f'ADF Statistic: {adf_result[ 0 ]} ' )\n",
    "print( f'p-value: {adf_result[ 1 ]} ' )\n",
    "print( f'No. of lags used: {adf_result[ 2 ]} ' )\n",
    "print( f'No. of observations used : {adf_result[ 3 ]} ' )\n",
    "print( 'Critical Values:' )\n",
    "for k, v in adf_result[ 4 ].items():\n",
    "    print( f' {k} : {v} ' )"
   ]
  },
  {
   "cell_type": "markdown",
   "id": "117977f6",
   "metadata": {},
   "source": [
    "The ADF statistic is smaller than the 5 % critical values. That tells us that this series is stationary."
   ]
  },
  {
   "cell_type": "code",
   "execution_count": 19,
   "id": "ddcf7f11",
   "metadata": {},
   "outputs": [
    {
     "name": "stdout",
     "output_type": "stream",
     "text": [
      "ADF Statistic: -3.6901589888366426 \n",
      "p-value: 0.00425372550457416 \n",
      "No. of lags used: 30 \n",
      "No. of observations used : 3803 \n",
      "Critical Values:\n",
      " 1% : -3.432070672988693 \n",
      " 5% : -2.8623002987378547 \n",
      " 10% : -2.567174716967499 \n"
     ]
    }
   ],
   "source": [
    "#ADF Test for SysLoad\n",
    "adf_result = adfuller(daily_resampled_dataset[ 'SysLoad' ])\n",
    "print( f'ADF Statistic: {adf_result[ 0 ]} ' )\n",
    "print( f'p-value: {adf_result[ 1 ]} ' )\n",
    "print( f'No. of lags used: {adf_result[ 2 ]} ' )\n",
    "print( f'No. of observations used : {adf_result[ 3 ]} ' )\n",
    "print( 'Critical Values:' )\n",
    "for k, v in adf_result[ 4 ].items():\n",
    "    print( f' {k} : {v} ' )"
   ]
  },
  {
   "cell_type": "markdown",
   "id": "74749b0b",
   "metadata": {},
   "source": [
    "The ADF statistic is smaller than the 5 % critical values. That tells us that this series is stationary."
   ]
  },
  {
   "cell_type": "code",
   "execution_count": 20,
   "id": "51296705",
   "metadata": {},
   "outputs": [
    {
     "name": "stdout",
     "output_type": "stream",
     "text": [
      "ADF Statistic: -2.9027666971651818 \n",
      "p-value: 0.04502721288462516 \n",
      "No. of lags used: 27 \n",
      "No. of observations used : 3806 \n",
      "Critical Values:\n",
      " 1% : -3.4320693157877544 \n",
      " 5% : -2.8622996992165364 \n",
      " 10% : -2.5671743978048323 \n"
     ]
    }
   ],
   "source": [
    "#ADF Test for GasPrice\n",
    "adf_result = adfuller(daily_resampled_dataset[ 'GasPrice' ])\n",
    "print( f'ADF Statistic: {adf_result[ 0 ]} ' )\n",
    "print( f'p-value: {adf_result[ 1 ]} ' )\n",
    "print( f'No. of lags used: {adf_result[ 2 ]} ' )\n",
    "print( f'No. of observations used : {adf_result[ 3 ]} ' )\n",
    "print( 'Critical Values:' )\n",
    "for k, v in adf_result[ 4 ].items():\n",
    "    print( f' {k} : {v} ' )"
   ]
  },
  {
   "cell_type": "markdown",
   "id": "6fe72c09",
   "metadata": {},
   "source": [
    "The ADF statistic is smaller than the 5 % critical values. That tells us that this series is stationary."
   ]
  },
  {
   "cell_type": "markdown",
   "id": "21e0a6ae",
   "metadata": {},
   "source": [
    "# Sorting the training and test dataset"
   ]
  },
  {
   "cell_type": "code",
   "execution_count": 21,
   "id": "dc123d8c",
   "metadata": {},
   "outputs": [
    {
     "data": {
      "text/html": [
       "<div>\n",
       "<style scoped>\n",
       "    .dataframe tbody tr th:only-of-type {\n",
       "        vertical-align: middle;\n",
       "    }\n",
       "\n",
       "    .dataframe tbody tr th {\n",
       "        vertical-align: top;\n",
       "    }\n",
       "\n",
       "    .dataframe thead th {\n",
       "        text-align: right;\n",
       "    }\n",
       "</style>\n",
       "<table border=\"1\" class=\"dataframe\">\n",
       "  <thead>\n",
       "    <tr style=\"text-align: right;\">\n",
       "      <th></th>\n",
       "      <th>Tmax</th>\n",
       "      <th>SysLoad</th>\n",
       "      <th>GasPrice</th>\n",
       "      <th>ElecPrice</th>\n",
       "    </tr>\n",
       "    <tr>\n",
       "      <th>FullDate</th>\n",
       "      <th></th>\n",
       "      <th></th>\n",
       "      <th></th>\n",
       "      <th></th>\n",
       "    </tr>\n",
       "  </thead>\n",
       "  <tbody>\n",
       "    <tr>\n",
       "      <th>2010-09-01</th>\n",
       "      <td>379.2</td>\n",
       "      <td>41565.380</td>\n",
       "      <td>88.56</td>\n",
       "      <td>2751.700</td>\n",
       "    </tr>\n",
       "    <tr>\n",
       "      <th>2010-09-02</th>\n",
       "      <td>369.6</td>\n",
       "      <td>38898.990</td>\n",
       "      <td>88.56</td>\n",
       "      <td>570.810</td>\n",
       "    </tr>\n",
       "    <tr>\n",
       "      <th>2010-09-03</th>\n",
       "      <td>439.2</td>\n",
       "      <td>41665.760</td>\n",
       "      <td>106.80</td>\n",
       "      <td>504.975</td>\n",
       "    </tr>\n",
       "    <tr>\n",
       "      <th>2010-09-04</th>\n",
       "      <td>328.8</td>\n",
       "      <td>35638.085</td>\n",
       "      <td>81.36</td>\n",
       "      <td>502.275</td>\n",
       "    </tr>\n",
       "    <tr>\n",
       "      <th>2010-09-05</th>\n",
       "      <td>357.6</td>\n",
       "      <td>35611.410</td>\n",
       "      <td>106.80</td>\n",
       "      <td>500.555</td>\n",
       "    </tr>\n",
       "  </tbody>\n",
       "</table>\n",
       "</div>"
      ],
      "text/plain": [
       "             Tmax    SysLoad  GasPrice  ElecPrice\n",
       "FullDate                                         \n",
       "2010-09-01  379.2  41565.380     88.56   2751.700\n",
       "2010-09-02  369.6  38898.990     88.56    570.810\n",
       "2010-09-03  439.2  41665.760    106.80    504.975\n",
       "2010-09-04  328.8  35638.085     81.36    502.275\n",
       "2010-09-05  357.6  35611.410    106.80    500.555"
      ]
     },
     "execution_count": 21,
     "metadata": {},
     "output_type": "execute_result"
    }
   ],
   "source": [
    "daily_resampled_dataset.head()"
   ]
  },
  {
   "cell_type": "code",
   "execution_count": 22,
   "id": "63f76b2f",
   "metadata": {},
   "outputs": [
    {
     "data": {
      "text/html": [
       "<div>\n",
       "<style scoped>\n",
       "    .dataframe tbody tr th:only-of-type {\n",
       "        vertical-align: middle;\n",
       "    }\n",
       "\n",
       "    .dataframe tbody tr th {\n",
       "        vertical-align: top;\n",
       "    }\n",
       "\n",
       "    .dataframe thead th {\n",
       "        text-align: right;\n",
       "    }\n",
       "</style>\n",
       "<table border=\"1\" class=\"dataframe\">\n",
       "  <thead>\n",
       "    <tr style=\"text-align: right;\">\n",
       "      <th></th>\n",
       "      <th>Tmax</th>\n",
       "      <th>SysLoad</th>\n",
       "      <th>GasPrice</th>\n",
       "      <th>ElecPrice</th>\n",
       "    </tr>\n",
       "    <tr>\n",
       "      <th>FullDate</th>\n",
       "      <th></th>\n",
       "      <th></th>\n",
       "      <th></th>\n",
       "      <th></th>\n",
       "    </tr>\n",
       "  </thead>\n",
       "  <tbody>\n",
       "    <tr>\n",
       "      <th>2021-02-24</th>\n",
       "      <td>537.6</td>\n",
       "      <td>-1525.49745</td>\n",
       "      <td>134.4000</td>\n",
       "      <td>634.770</td>\n",
       "    </tr>\n",
       "    <tr>\n",
       "      <th>2021-02-25</th>\n",
       "      <td>518.4</td>\n",
       "      <td>4539.07855</td>\n",
       "      <td>130.5048</td>\n",
       "      <td>577.515</td>\n",
       "    </tr>\n",
       "    <tr>\n",
       "      <th>2021-02-26</th>\n",
       "      <td>547.2</td>\n",
       "      <td>9517.02430</td>\n",
       "      <td>130.1808</td>\n",
       "      <td>1445.495</td>\n",
       "    </tr>\n",
       "    <tr>\n",
       "      <th>2021-02-27</th>\n",
       "      <td>564.0</td>\n",
       "      <td>4932.88015</td>\n",
       "      <td>130.0800</td>\n",
       "      <td>488.980</td>\n",
       "    </tr>\n",
       "    <tr>\n",
       "      <th>2021-02-28</th>\n",
       "      <td>583.2</td>\n",
       "      <td>6675.05485</td>\n",
       "      <td>131.6352</td>\n",
       "      <td>-98.985</td>\n",
       "    </tr>\n",
       "  </tbody>\n",
       "</table>\n",
       "</div>"
      ],
      "text/plain": [
       "             Tmax     SysLoad  GasPrice  ElecPrice\n",
       "FullDate                                          \n",
       "2021-02-24  537.6 -1525.49745  134.4000    634.770\n",
       "2021-02-25  518.4  4539.07855  130.5048    577.515\n",
       "2021-02-26  547.2  9517.02430  130.1808   1445.495\n",
       "2021-02-27  564.0  4932.88015  130.0800    488.980\n",
       "2021-02-28  583.2  6675.05485  131.6352    -98.985"
      ]
     },
     "execution_count": 22,
     "metadata": {},
     "output_type": "execute_result"
    }
   ],
   "source": [
    "daily_resampled_dataset.tail()"
   ]
  },
  {
   "cell_type": "code",
   "execution_count": 23,
   "id": "d869846f",
   "metadata": {},
   "outputs": [],
   "source": [
    "#Extract training dataset from resampled data\n",
    "training_data = daily_resampled_dataset[:2757]"
   ]
  },
  {
   "cell_type": "code",
   "execution_count": 24,
   "id": "09820946",
   "metadata": {},
   "outputs": [
    {
     "data": {
      "text/plain": [
       "2757"
      ]
     },
     "execution_count": 24,
     "metadata": {},
     "output_type": "execute_result"
    }
   ],
   "source": [
    "#Check the lenght of the training data \n",
    "len(training_data)"
   ]
  },
  {
   "cell_type": "code",
   "execution_count": 25,
   "id": "b48a2187",
   "metadata": {
    "scrolled": true
   },
   "outputs": [
    {
     "data": {
      "text/html": [
       "<div>\n",
       "<style scoped>\n",
       "    .dataframe tbody tr th:only-of-type {\n",
       "        vertical-align: middle;\n",
       "    }\n",
       "\n",
       "    .dataframe tbody tr th {\n",
       "        vertical-align: top;\n",
       "    }\n",
       "\n",
       "    .dataframe thead th {\n",
       "        text-align: right;\n",
       "    }\n",
       "</style>\n",
       "<table border=\"1\" class=\"dataframe\">\n",
       "  <thead>\n",
       "    <tr style=\"text-align: right;\">\n",
       "      <th></th>\n",
       "      <th>Tmax</th>\n",
       "      <th>SysLoad</th>\n",
       "      <th>GasPrice</th>\n",
       "      <th>ElecPrice</th>\n",
       "    </tr>\n",
       "    <tr>\n",
       "      <th>FullDate</th>\n",
       "      <th></th>\n",
       "      <th></th>\n",
       "      <th></th>\n",
       "      <th></th>\n",
       "    </tr>\n",
       "  </thead>\n",
       "  <tbody>\n",
       "    <tr>\n",
       "      <th>2010-09-01</th>\n",
       "      <td>379.2</td>\n",
       "      <td>41565.380</td>\n",
       "      <td>88.56</td>\n",
       "      <td>2751.700</td>\n",
       "    </tr>\n",
       "    <tr>\n",
       "      <th>2010-09-02</th>\n",
       "      <td>369.6</td>\n",
       "      <td>38898.990</td>\n",
       "      <td>88.56</td>\n",
       "      <td>570.810</td>\n",
       "    </tr>\n",
       "    <tr>\n",
       "      <th>2010-09-03</th>\n",
       "      <td>439.2</td>\n",
       "      <td>41665.760</td>\n",
       "      <td>106.80</td>\n",
       "      <td>504.975</td>\n",
       "    </tr>\n",
       "    <tr>\n",
       "      <th>2010-09-04</th>\n",
       "      <td>328.8</td>\n",
       "      <td>35638.085</td>\n",
       "      <td>81.36</td>\n",
       "      <td>502.275</td>\n",
       "    </tr>\n",
       "    <tr>\n",
       "      <th>2010-09-05</th>\n",
       "      <td>357.6</td>\n",
       "      <td>35611.410</td>\n",
       "      <td>106.80</td>\n",
       "      <td>500.555</td>\n",
       "    </tr>\n",
       "  </tbody>\n",
       "</table>\n",
       "</div>"
      ],
      "text/plain": [
       "             Tmax    SysLoad  GasPrice  ElecPrice\n",
       "FullDate                                         \n",
       "2010-09-01  379.2  41565.380     88.56   2751.700\n",
       "2010-09-02  369.6  38898.990     88.56    570.810\n",
       "2010-09-03  439.2  41665.760    106.80    504.975\n",
       "2010-09-04  328.8  35638.085     81.36    502.275\n",
       "2010-09-05  357.6  35611.410    106.80    500.555"
      ]
     },
     "execution_count": 25,
     "metadata": {},
     "output_type": "execute_result"
    }
   ],
   "source": [
    "#Checked the first few columns of the training data\n",
    "training_data.head()"
   ]
  },
  {
   "cell_type": "code",
   "execution_count": 26,
   "id": "b2a41bb4",
   "metadata": {},
   "outputs": [
    {
     "data": {
      "text/html": [
       "<div>\n",
       "<style scoped>\n",
       "    .dataframe tbody tr th:only-of-type {\n",
       "        vertical-align: middle;\n",
       "    }\n",
       "\n",
       "    .dataframe tbody tr th {\n",
       "        vertical-align: top;\n",
       "    }\n",
       "\n",
       "    .dataframe thead th {\n",
       "        text-align: right;\n",
       "    }\n",
       "</style>\n",
       "<table border=\"1\" class=\"dataframe\">\n",
       "  <thead>\n",
       "    <tr style=\"text-align: right;\">\n",
       "      <th></th>\n",
       "      <th>Tmax</th>\n",
       "      <th>SysLoad</th>\n",
       "      <th>GasPrice</th>\n",
       "      <th>ElecPrice</th>\n",
       "    </tr>\n",
       "    <tr>\n",
       "      <th>FullDate</th>\n",
       "      <th></th>\n",
       "      <th></th>\n",
       "      <th></th>\n",
       "      <th></th>\n",
       "    </tr>\n",
       "  </thead>\n",
       "  <tbody>\n",
       "    <tr>\n",
       "      <th>2018-03-15</th>\n",
       "      <td>609.6</td>\n",
       "      <td>27139.02585</td>\n",
       "      <td>220.6272</td>\n",
       "      <td>2717.340</td>\n",
       "    </tr>\n",
       "    <tr>\n",
       "      <th>2018-03-16</th>\n",
       "      <td>648.0</td>\n",
       "      <td>19710.46400</td>\n",
       "      <td>216.9600</td>\n",
       "      <td>2277.335</td>\n",
       "    </tr>\n",
       "    <tr>\n",
       "      <th>2018-03-17</th>\n",
       "      <td>724.8</td>\n",
       "      <td>1079.34705</td>\n",
       "      <td>209.0400</td>\n",
       "      <td>1718.385</td>\n",
       "    </tr>\n",
       "    <tr>\n",
       "      <th>2018-03-18</th>\n",
       "      <td>508.8</td>\n",
       "      <td>-4102.43795</td>\n",
       "      <td>203.9880</td>\n",
       "      <td>1088.015</td>\n",
       "    </tr>\n",
       "    <tr>\n",
       "      <th>2018-03-19</th>\n",
       "      <td>561.6</td>\n",
       "      <td>8731.39945</td>\n",
       "      <td>199.2720</td>\n",
       "      <td>1998.305</td>\n",
       "    </tr>\n",
       "  </tbody>\n",
       "</table>\n",
       "</div>"
      ],
      "text/plain": [
       "             Tmax      SysLoad  GasPrice  ElecPrice\n",
       "FullDate                                           \n",
       "2018-03-15  609.6  27139.02585  220.6272   2717.340\n",
       "2018-03-16  648.0  19710.46400  216.9600   2277.335\n",
       "2018-03-17  724.8   1079.34705  209.0400   1718.385\n",
       "2018-03-18  508.8  -4102.43795  203.9880   1088.015\n",
       "2018-03-19  561.6   8731.39945  199.2720   1998.305"
      ]
     },
     "execution_count": 26,
     "metadata": {},
     "output_type": "execute_result"
    }
   ],
   "source": [
    "#Checked the last few columns of the training data\n",
    "training_data.tail()"
   ]
  },
  {
   "cell_type": "code",
   "execution_count": 27,
   "id": "8532fafe",
   "metadata": {},
   "outputs": [],
   "source": [
    "#Extract test dataset from resampled data\n",
    "test_data = daily_resampled_dataset[2757:]"
   ]
  },
  {
   "cell_type": "code",
   "execution_count": 28,
   "id": "49e4d9c3",
   "metadata": {},
   "outputs": [
    {
     "data": {
      "text/plain": [
       "1077"
      ]
     },
     "execution_count": 28,
     "metadata": {},
     "output_type": "execute_result"
    }
   ],
   "source": [
    "#Check the lenght of the test data \n",
    "len(test_data)"
   ]
  },
  {
   "cell_type": "code",
   "execution_count": 29,
   "id": "10a05ab1",
   "metadata": {},
   "outputs": [
    {
     "data": {
      "text/html": [
       "<div>\n",
       "<style scoped>\n",
       "    .dataframe tbody tr th:only-of-type {\n",
       "        vertical-align: middle;\n",
       "    }\n",
       "\n",
       "    .dataframe tbody tr th {\n",
       "        vertical-align: top;\n",
       "    }\n",
       "\n",
       "    .dataframe thead th {\n",
       "        text-align: right;\n",
       "    }\n",
       "</style>\n",
       "<table border=\"1\" class=\"dataframe\">\n",
       "  <thead>\n",
       "    <tr style=\"text-align: right;\">\n",
       "      <th></th>\n",
       "      <th>Tmax</th>\n",
       "      <th>SysLoad</th>\n",
       "      <th>GasPrice</th>\n",
       "      <th>ElecPrice</th>\n",
       "    </tr>\n",
       "    <tr>\n",
       "      <th>FullDate</th>\n",
       "      <th></th>\n",
       "      <th></th>\n",
       "      <th></th>\n",
       "      <th></th>\n",
       "    </tr>\n",
       "  </thead>\n",
       "  <tbody>\n",
       "    <tr>\n",
       "      <th>2018-03-20</th>\n",
       "      <td>540.0</td>\n",
       "      <td>7696.91130</td>\n",
       "      <td>201.5880</td>\n",
       "      <td>1833.00</td>\n",
       "    </tr>\n",
       "    <tr>\n",
       "      <th>2018-03-21</th>\n",
       "      <td>571.2</td>\n",
       "      <td>4658.05865</td>\n",
       "      <td>203.2560</td>\n",
       "      <td>1730.49</td>\n",
       "    </tr>\n",
       "    <tr>\n",
       "      <th>2018-03-22</th>\n",
       "      <td>722.4</td>\n",
       "      <td>19161.78525</td>\n",
       "      <td>203.2560</td>\n",
       "      <td>2260.55</td>\n",
       "    </tr>\n",
       "    <tr>\n",
       "      <th>2018-03-23</th>\n",
       "      <td>811.2</td>\n",
       "      <td>18090.43435</td>\n",
       "      <td>198.6456</td>\n",
       "      <td>2138.76</td>\n",
       "    </tr>\n",
       "    <tr>\n",
       "      <th>2018-03-24</th>\n",
       "      <td>832.8</td>\n",
       "      <td>3763.53865</td>\n",
       "      <td>180.2160</td>\n",
       "      <td>1721.70</td>\n",
       "    </tr>\n",
       "  </tbody>\n",
       "</table>\n",
       "</div>"
      ],
      "text/plain": [
       "             Tmax      SysLoad  GasPrice  ElecPrice\n",
       "FullDate                                           \n",
       "2018-03-20  540.0   7696.91130  201.5880    1833.00\n",
       "2018-03-21  571.2   4658.05865  203.2560    1730.49\n",
       "2018-03-22  722.4  19161.78525  203.2560    2260.55\n",
       "2018-03-23  811.2  18090.43435  198.6456    2138.76\n",
       "2018-03-24  832.8   3763.53865  180.2160    1721.70"
      ]
     },
     "execution_count": 29,
     "metadata": {},
     "output_type": "execute_result"
    }
   ],
   "source": [
    "#Checked the first few columns of the test data\n",
    "test_data.head()"
   ]
  },
  {
   "cell_type": "code",
   "execution_count": 30,
   "id": "6f3e536c",
   "metadata": {
    "scrolled": true
   },
   "outputs": [
    {
     "data": {
      "text/html": [
       "<div>\n",
       "<style scoped>\n",
       "    .dataframe tbody tr th:only-of-type {\n",
       "        vertical-align: middle;\n",
       "    }\n",
       "\n",
       "    .dataframe tbody tr th {\n",
       "        vertical-align: top;\n",
       "    }\n",
       "\n",
       "    .dataframe thead th {\n",
       "        text-align: right;\n",
       "    }\n",
       "</style>\n",
       "<table border=\"1\" class=\"dataframe\">\n",
       "  <thead>\n",
       "    <tr style=\"text-align: right;\">\n",
       "      <th></th>\n",
       "      <th>Tmax</th>\n",
       "      <th>SysLoad</th>\n",
       "      <th>GasPrice</th>\n",
       "      <th>ElecPrice</th>\n",
       "    </tr>\n",
       "    <tr>\n",
       "      <th>FullDate</th>\n",
       "      <th></th>\n",
       "      <th></th>\n",
       "      <th></th>\n",
       "      <th></th>\n",
       "    </tr>\n",
       "  </thead>\n",
       "  <tbody>\n",
       "    <tr>\n",
       "      <th>2021-02-24</th>\n",
       "      <td>537.6</td>\n",
       "      <td>-1525.49745</td>\n",
       "      <td>134.4000</td>\n",
       "      <td>634.770</td>\n",
       "    </tr>\n",
       "    <tr>\n",
       "      <th>2021-02-25</th>\n",
       "      <td>518.4</td>\n",
       "      <td>4539.07855</td>\n",
       "      <td>130.5048</td>\n",
       "      <td>577.515</td>\n",
       "    </tr>\n",
       "    <tr>\n",
       "      <th>2021-02-26</th>\n",
       "      <td>547.2</td>\n",
       "      <td>9517.02430</td>\n",
       "      <td>130.1808</td>\n",
       "      <td>1445.495</td>\n",
       "    </tr>\n",
       "    <tr>\n",
       "      <th>2021-02-27</th>\n",
       "      <td>564.0</td>\n",
       "      <td>4932.88015</td>\n",
       "      <td>130.0800</td>\n",
       "      <td>488.980</td>\n",
       "    </tr>\n",
       "    <tr>\n",
       "      <th>2021-02-28</th>\n",
       "      <td>583.2</td>\n",
       "      <td>6675.05485</td>\n",
       "      <td>131.6352</td>\n",
       "      <td>-98.985</td>\n",
       "    </tr>\n",
       "  </tbody>\n",
       "</table>\n",
       "</div>"
      ],
      "text/plain": [
       "             Tmax     SysLoad  GasPrice  ElecPrice\n",
       "FullDate                                          \n",
       "2021-02-24  537.6 -1525.49745  134.4000    634.770\n",
       "2021-02-25  518.4  4539.07855  130.5048    577.515\n",
       "2021-02-26  547.2  9517.02430  130.1808   1445.495\n",
       "2021-02-27  564.0  4932.88015  130.0800    488.980\n",
       "2021-02-28  583.2  6675.05485  131.6352    -98.985"
      ]
     },
     "execution_count": 30,
     "metadata": {},
     "output_type": "execute_result"
    }
   ],
   "source": [
    "#Checked the last few columns of the test data\n",
    "test_data.tail()"
   ]
  },
  {
   "cell_type": "markdown",
   "id": "8f9eba06",
   "metadata": {},
   "source": [
    "# Extracted Training and Test Data for Model training"
   ]
  },
  {
   "cell_type": "code",
   "execution_count": 31,
   "id": "ad6ebdc8",
   "metadata": {},
   "outputs": [],
   "source": [
    "#Resetting the index of training data\n",
    "training_data = training_data.reset_index()"
   ]
  },
  {
   "cell_type": "code",
   "execution_count": 32,
   "id": "d595fd2e",
   "metadata": {},
   "outputs": [
    {
     "data": {
      "text/html": [
       "<div>\n",
       "<style scoped>\n",
       "    .dataframe tbody tr th:only-of-type {\n",
       "        vertical-align: middle;\n",
       "    }\n",
       "\n",
       "    .dataframe tbody tr th {\n",
       "        vertical-align: top;\n",
       "    }\n",
       "\n",
       "    .dataframe thead th {\n",
       "        text-align: right;\n",
       "    }\n",
       "</style>\n",
       "<table border=\"1\" class=\"dataframe\">\n",
       "  <thead>\n",
       "    <tr style=\"text-align: right;\">\n",
       "      <th></th>\n",
       "      <th>FullDate</th>\n",
       "      <th>Tmax</th>\n",
       "      <th>SysLoad</th>\n",
       "      <th>GasPrice</th>\n",
       "      <th>ElecPrice</th>\n",
       "    </tr>\n",
       "  </thead>\n",
       "  <tbody>\n",
       "    <tr>\n",
       "      <th>0</th>\n",
       "      <td>2010-09-01</td>\n",
       "      <td>379.2</td>\n",
       "      <td>41565.380</td>\n",
       "      <td>88.56</td>\n",
       "      <td>2751.700</td>\n",
       "    </tr>\n",
       "    <tr>\n",
       "      <th>1</th>\n",
       "      <td>2010-09-02</td>\n",
       "      <td>369.6</td>\n",
       "      <td>38898.990</td>\n",
       "      <td>88.56</td>\n",
       "      <td>570.810</td>\n",
       "    </tr>\n",
       "    <tr>\n",
       "      <th>2</th>\n",
       "      <td>2010-09-03</td>\n",
       "      <td>439.2</td>\n",
       "      <td>41665.760</td>\n",
       "      <td>106.80</td>\n",
       "      <td>504.975</td>\n",
       "    </tr>\n",
       "    <tr>\n",
       "      <th>3</th>\n",
       "      <td>2010-09-04</td>\n",
       "      <td>328.8</td>\n",
       "      <td>35638.085</td>\n",
       "      <td>81.36</td>\n",
       "      <td>502.275</td>\n",
       "    </tr>\n",
       "    <tr>\n",
       "      <th>4</th>\n",
       "      <td>2010-09-05</td>\n",
       "      <td>357.6</td>\n",
       "      <td>35611.410</td>\n",
       "      <td>106.80</td>\n",
       "      <td>500.555</td>\n",
       "    </tr>\n",
       "  </tbody>\n",
       "</table>\n",
       "</div>"
      ],
      "text/plain": [
       "    FullDate   Tmax    SysLoad  GasPrice  ElecPrice\n",
       "0 2010-09-01  379.2  41565.380     88.56   2751.700\n",
       "1 2010-09-02  369.6  38898.990     88.56    570.810\n",
       "2 2010-09-03  439.2  41665.760    106.80    504.975\n",
       "3 2010-09-04  328.8  35638.085     81.36    502.275\n",
       "4 2010-09-05  357.6  35611.410    106.80    500.555"
      ]
     },
     "execution_count": 32,
     "metadata": {},
     "output_type": "execute_result"
    }
   ],
   "source": [
    "training_data.head()"
   ]
  },
  {
   "cell_type": "code",
   "execution_count": 33,
   "id": "3800eb29",
   "metadata": {},
   "outputs": [],
   "source": [
    "#Resetting the index of test data\n",
    "test_data = test_data.reset_index()"
   ]
  },
  {
   "cell_type": "code",
   "execution_count": 34,
   "id": "dfe80a66",
   "metadata": {},
   "outputs": [
    {
     "data": {
      "text/html": [
       "<div>\n",
       "<style scoped>\n",
       "    .dataframe tbody tr th:only-of-type {\n",
       "        vertical-align: middle;\n",
       "    }\n",
       "\n",
       "    .dataframe tbody tr th {\n",
       "        vertical-align: top;\n",
       "    }\n",
       "\n",
       "    .dataframe thead th {\n",
       "        text-align: right;\n",
       "    }\n",
       "</style>\n",
       "<table border=\"1\" class=\"dataframe\">\n",
       "  <thead>\n",
       "    <tr style=\"text-align: right;\">\n",
       "      <th></th>\n",
       "      <th>FullDate</th>\n",
       "      <th>Tmax</th>\n",
       "      <th>SysLoad</th>\n",
       "      <th>GasPrice</th>\n",
       "      <th>ElecPrice</th>\n",
       "    </tr>\n",
       "  </thead>\n",
       "  <tbody>\n",
       "    <tr>\n",
       "      <th>0</th>\n",
       "      <td>2018-03-20</td>\n",
       "      <td>540.0</td>\n",
       "      <td>7696.91130</td>\n",
       "      <td>201.5880</td>\n",
       "      <td>1833.00</td>\n",
       "    </tr>\n",
       "    <tr>\n",
       "      <th>1</th>\n",
       "      <td>2018-03-21</td>\n",
       "      <td>571.2</td>\n",
       "      <td>4658.05865</td>\n",
       "      <td>203.2560</td>\n",
       "      <td>1730.49</td>\n",
       "    </tr>\n",
       "    <tr>\n",
       "      <th>2</th>\n",
       "      <td>2018-03-22</td>\n",
       "      <td>722.4</td>\n",
       "      <td>19161.78525</td>\n",
       "      <td>203.2560</td>\n",
       "      <td>2260.55</td>\n",
       "    </tr>\n",
       "    <tr>\n",
       "      <th>3</th>\n",
       "      <td>2018-03-23</td>\n",
       "      <td>811.2</td>\n",
       "      <td>18090.43435</td>\n",
       "      <td>198.6456</td>\n",
       "      <td>2138.76</td>\n",
       "    </tr>\n",
       "    <tr>\n",
       "      <th>4</th>\n",
       "      <td>2018-03-24</td>\n",
       "      <td>832.8</td>\n",
       "      <td>3763.53865</td>\n",
       "      <td>180.2160</td>\n",
       "      <td>1721.70</td>\n",
       "    </tr>\n",
       "  </tbody>\n",
       "</table>\n",
       "</div>"
      ],
      "text/plain": [
       "    FullDate   Tmax      SysLoad  GasPrice  ElecPrice\n",
       "0 2018-03-20  540.0   7696.91130  201.5880    1833.00\n",
       "1 2018-03-21  571.2   4658.05865  203.2560    1730.49\n",
       "2 2018-03-22  722.4  19161.78525  203.2560    2260.55\n",
       "3 2018-03-23  811.2  18090.43435  198.6456    2138.76\n",
       "4 2018-03-24  832.8   3763.53865  180.2160    1721.70"
      ]
     },
     "execution_count": 34,
     "metadata": {},
     "output_type": "execute_result"
    }
   ],
   "source": [
    "test_data.head()"
   ]
  },
  {
   "cell_type": "markdown",
   "id": "7d74c030",
   "metadata": {},
   "source": [
    "# Time series with Facebook Prophet"
   ]
  },
  {
   "cell_type": "code",
   "execution_count": 36,
   "id": "8b59bf17",
   "metadata": {},
   "outputs": [],
   "source": [
    "#Import Prophet\n",
    "from prophet import Prophet"
   ]
  },
  {
   "cell_type": "code",
   "execution_count": 37,
   "id": "396c6373",
   "metadata": {},
   "outputs": [
    {
     "data": {
      "text/html": [
       "<div>\n",
       "<style scoped>\n",
       "    .dataframe tbody tr th:only-of-type {\n",
       "        vertical-align: middle;\n",
       "    }\n",
       "\n",
       "    .dataframe tbody tr th {\n",
       "        vertical-align: top;\n",
       "    }\n",
       "\n",
       "    .dataframe thead th {\n",
       "        text-align: right;\n",
       "    }\n",
       "</style>\n",
       "<table border=\"1\" class=\"dataframe\">\n",
       "  <thead>\n",
       "    <tr style=\"text-align: right;\">\n",
       "      <th></th>\n",
       "      <th>ds</th>\n",
       "      <th>y</th>\n",
       "    </tr>\n",
       "  </thead>\n",
       "  <tbody>\n",
       "    <tr>\n",
       "      <th>0</th>\n",
       "      <td>2010-09-01</td>\n",
       "      <td>2751.700</td>\n",
       "    </tr>\n",
       "    <tr>\n",
       "      <th>1</th>\n",
       "      <td>2010-09-02</td>\n",
       "      <td>570.810</td>\n",
       "    </tr>\n",
       "    <tr>\n",
       "      <th>2</th>\n",
       "      <td>2010-09-03</td>\n",
       "      <td>504.975</td>\n",
       "    </tr>\n",
       "    <tr>\n",
       "      <th>3</th>\n",
       "      <td>2010-09-04</td>\n",
       "      <td>502.275</td>\n",
       "    </tr>\n",
       "    <tr>\n",
       "      <th>4</th>\n",
       "      <td>2010-09-05</td>\n",
       "      <td>500.555</td>\n",
       "    </tr>\n",
       "  </tbody>\n",
       "</table>\n",
       "</div>"
      ],
      "text/plain": [
       "          ds         y\n",
       "0 2010-09-01  2751.700\n",
       "1 2010-09-02   570.810\n",
       "2 2010-09-03   504.975\n",
       "3 2010-09-04   502.275\n",
       "4 2010-09-05   500.555"
      ]
     },
     "execution_count": 37,
     "metadata": {},
     "output_type": "execute_result"
    }
   ],
   "source": [
    "#Getting the final training data for prophet \n",
    "prophet_training_dataset = training_data[['FullDate', 'ElecPrice']]\n",
    "prophet_training_dataset = prophet_training_dataset.rename(columns={ \"FullDate\" : \"ds\" , \"ElecPrice\" : \"y\" })\n",
    "prophet_training_dataset.head()"
   ]
  },
  {
   "cell_type": "code",
   "execution_count": 38,
   "id": "b43d6513",
   "metadata": {},
   "outputs": [
    {
     "name": "stderr",
     "output_type": "stream",
     "text": [
      "INFO:prophet:Disabling daily seasonality. Run prophet with daily_seasonality=True to override this.\n"
     ]
    },
    {
     "data": {
      "text/plain": [
       "<prophet.forecaster.Prophet at 0x22717c43f08>"
      ]
     },
     "execution_count": 38,
     "metadata": {},
     "output_type": "execute_result"
    }
   ],
   "source": [
    "#Initializing the prophet model and training\n",
    "prophet_model = Prophet()\n",
    "prophet_model.fit(prophet_training_dataset)"
   ]
  },
  {
   "cell_type": "code",
   "execution_count": 39,
   "id": "228855e2",
   "metadata": {},
   "outputs": [
    {
     "data": {
      "text/html": [
       "<div>\n",
       "<style scoped>\n",
       "    .dataframe tbody tr th:only-of-type {\n",
       "        vertical-align: middle;\n",
       "    }\n",
       "\n",
       "    .dataframe tbody tr th {\n",
       "        vertical-align: top;\n",
       "    }\n",
       "\n",
       "    .dataframe thead th {\n",
       "        text-align: right;\n",
       "    }\n",
       "</style>\n",
       "<table border=\"1\" class=\"dataframe\">\n",
       "  <thead>\n",
       "    <tr style=\"text-align: right;\">\n",
       "      <th></th>\n",
       "      <th>ds</th>\n",
       "      <th>yhat</th>\n",
       "      <th>yhat_lower</th>\n",
       "      <th>yhat_upper</th>\n",
       "      <th>trend</th>\n",
       "      <th>trend_lower</th>\n",
       "      <th>trend_upper</th>\n",
       "    </tr>\n",
       "  </thead>\n",
       "  <tbody>\n",
       "    <tr>\n",
       "      <th>0</th>\n",
       "      <td>2010-09-01</td>\n",
       "      <td>986.349389</td>\n",
       "      <td>-1391.147673</td>\n",
       "      <td>3448.056363</td>\n",
       "      <td>842.415148</td>\n",
       "      <td>842.415148</td>\n",
       "      <td>842.415148</td>\n",
       "    </tr>\n",
       "    <tr>\n",
       "      <th>1</th>\n",
       "      <td>2010-09-02</td>\n",
       "      <td>1066.687768</td>\n",
       "      <td>-1270.092001</td>\n",
       "      <td>3480.538090</td>\n",
       "      <td>842.387193</td>\n",
       "      <td>842.387193</td>\n",
       "      <td>842.387193</td>\n",
       "    </tr>\n",
       "    <tr>\n",
       "      <th>2</th>\n",
       "      <td>2010-09-03</td>\n",
       "      <td>841.687070</td>\n",
       "      <td>-1454.133396</td>\n",
       "      <td>3334.175296</td>\n",
       "      <td>842.359238</td>\n",
       "      <td>842.359238</td>\n",
       "      <td>842.359238</td>\n",
       "    </tr>\n",
       "    <tr>\n",
       "      <th>3</th>\n",
       "      <td>2010-09-04</td>\n",
       "      <td>501.396433</td>\n",
       "      <td>-1926.422507</td>\n",
       "      <td>2807.595834</td>\n",
       "      <td>842.331284</td>\n",
       "      <td>842.331284</td>\n",
       "      <td>842.331284</td>\n",
       "    </tr>\n",
       "    <tr>\n",
       "      <th>4</th>\n",
       "      <td>2010-09-05</td>\n",
       "      <td>411.453162</td>\n",
       "      <td>-1911.125614</td>\n",
       "      <td>2768.720945</td>\n",
       "      <td>842.303329</td>\n",
       "      <td>842.303329</td>\n",
       "      <td>842.303329</td>\n",
       "    </tr>\n",
       "    <tr>\n",
       "      <th>...</th>\n",
       "      <td>...</td>\n",
       "      <td>...</td>\n",
       "      <td>...</td>\n",
       "      <td>...</td>\n",
       "      <td>...</td>\n",
       "      <td>...</td>\n",
       "      <td>...</td>\n",
       "    </tr>\n",
       "    <tr>\n",
       "      <th>3829</th>\n",
       "      <td>2021-02-24</td>\n",
       "      <td>3427.058195</td>\n",
       "      <td>638.157555</td>\n",
       "      <td>6552.172365</td>\n",
       "      <td>3516.128535</td>\n",
       "      <td>1934.047363</td>\n",
       "      <td>5279.229947</td>\n",
       "    </tr>\n",
       "    <tr>\n",
       "      <th>3830</th>\n",
       "      <td>2021-02-25</td>\n",
       "      <td>3493.917673</td>\n",
       "      <td>437.804598</td>\n",
       "      <td>6291.441169</td>\n",
       "      <td>3516.909233</td>\n",
       "      <td>1933.309079</td>\n",
       "      <td>5282.989429</td>\n",
       "    </tr>\n",
       "    <tr>\n",
       "      <th>3831</th>\n",
       "      <td>2021-02-26</td>\n",
       "      <td>3260.718624</td>\n",
       "      <td>300.326588</td>\n",
       "      <td>6331.284740</td>\n",
       "      <td>3517.689931</td>\n",
       "      <td>1932.579344</td>\n",
       "      <td>5286.748912</td>\n",
       "    </tr>\n",
       "    <tr>\n",
       "      <th>3832</th>\n",
       "      <td>2021-02-27</td>\n",
       "      <td>2917.369446</td>\n",
       "      <td>137.444587</td>\n",
       "      <td>5857.727265</td>\n",
       "      <td>3518.470629</td>\n",
       "      <td>1931.849609</td>\n",
       "      <td>5290.508395</td>\n",
       "    </tr>\n",
       "    <tr>\n",
       "      <th>3833</th>\n",
       "      <td>2021-02-28</td>\n",
       "      <td>2829.302173</td>\n",
       "      <td>-246.145845</td>\n",
       "      <td>5878.434925</td>\n",
       "      <td>3519.251327</td>\n",
       "      <td>1931.119874</td>\n",
       "      <td>5294.267877</td>\n",
       "    </tr>\n",
       "  </tbody>\n",
       "</table>\n",
       "<p>3834 rows × 7 columns</p>\n",
       "</div>"
      ],
      "text/plain": [
       "             ds         yhat   yhat_lower   yhat_upper        trend  \\\n",
       "0    2010-09-01   986.349389 -1391.147673  3448.056363   842.415148   \n",
       "1    2010-09-02  1066.687768 -1270.092001  3480.538090   842.387193   \n",
       "2    2010-09-03   841.687070 -1454.133396  3334.175296   842.359238   \n",
       "3    2010-09-04   501.396433 -1926.422507  2807.595834   842.331284   \n",
       "4    2010-09-05   411.453162 -1911.125614  2768.720945   842.303329   \n",
       "...         ...          ...          ...          ...          ...   \n",
       "3829 2021-02-24  3427.058195   638.157555  6552.172365  3516.128535   \n",
       "3830 2021-02-25  3493.917673   437.804598  6291.441169  3516.909233   \n",
       "3831 2021-02-26  3260.718624   300.326588  6331.284740  3517.689931   \n",
       "3832 2021-02-27  2917.369446   137.444587  5857.727265  3518.470629   \n",
       "3833 2021-02-28  2829.302173  -246.145845  5878.434925  3519.251327   \n",
       "\n",
       "      trend_lower  trend_upper  \n",
       "0      842.415148   842.415148  \n",
       "1      842.387193   842.387193  \n",
       "2      842.359238   842.359238  \n",
       "3      842.331284   842.331284  \n",
       "4      842.303329   842.303329  \n",
       "...           ...          ...  \n",
       "3829  1934.047363  5279.229947  \n",
       "3830  1933.309079  5282.989429  \n",
       "3831  1932.579344  5286.748912  \n",
       "3832  1931.849609  5290.508395  \n",
       "3833  1931.119874  5294.267877  \n",
       "\n",
       "[3834 rows x 7 columns]"
      ]
     },
     "execution_count": 39,
     "metadata": {},
     "output_type": "execute_result"
    }
   ],
   "source": [
    "#predict for the next 1077 days\n",
    "future = prophet_model.make_future_dataframe(periods= 1077)\n",
    "forecast = prophet_model.predict(future)\n",
    "forecast.head()\n",
    "forecast[[ 'ds' , 'yhat' , 'yhat_lower' , 'yhat_upper' , 'trend' , 'trend_lower' , 'trend_upper' ]]"
   ]
  },
  {
   "cell_type": "code",
   "execution_count": 40,
   "id": "55ed1584",
   "metadata": {
    "scrolled": false
   },
   "outputs": [
    {
     "data": {
      "image/png": "[encoded data removed]",
      "text/plain": [
       "<Figure size 720x432 with 1 Axes>"
      ]
     },
     "metadata": {},
     "output_type": "display_data"
    }
   ],
   "source": [
    "prophet_model.plot(forecast)\n",
    "plt.show()"
   ]
  },
  {
   "cell_type": "code",
   "execution_count": 43,
   "id": "b366e77d",
   "metadata": {
    "scrolled": false
   },
   "outputs": [
    {
     "data": {
      "image/png": "[encoded data removed]",
      "text/plain": [
       "<Figure size 648x648 with 3 Axes>"
      ]
     },
     "metadata": {},
     "output_type": "display_data"
    }
   ],
   "source": [
    "pro_plots= prophet_model.plot_components(forecast)"
   ]
  },
  {
   "cell_type": "markdown",
   "id": "40ec522b",
   "metadata": {},
   "source": [
    "# Model Evaluation"
   ]
  },
  {
   "cell_type": "code",
   "execution_count": 202,
   "id": "5a0efb5e",
   "metadata": {},
   "outputs": [],
   "source": [
    "#Get models predicted values\n",
    "y_pred = forecast['yhat'][2757:].values"
   ]
  },
  {
   "cell_type": "code",
   "execution_count": 203,
   "id": "4d410c17",
   "metadata": {},
   "outputs": [
    {
     "data": {
      "text/plain": [
       "array([2524.17405124, 2677.40628297, 2776.31590104, ..., 3260.71862362,\n",
       "       2917.36944558, 2829.30217314])"
      ]
     },
     "execution_count": 203,
     "metadata": {},
     "output_type": "execute_result"
    }
   ],
   "source": [
    "y_pred"
   ]
  },
  {
   "cell_type": "code",
   "execution_count": 204,
   "id": "f27f6a4b",
   "metadata": {
    "scrolled": true
   },
   "outputs": [
    {
     "data": {
      "text/plain": [
       "1077"
      ]
     },
     "execution_count": 204,
     "metadata": {},
     "output_type": "execute_result"
    }
   ],
   "source": [
    "len(y_pred)"
   ]
  },
  {
   "cell_type": "code",
   "execution_count": 206,
   "id": "628d758f",
   "metadata": {},
   "outputs": [],
   "source": [
    "#Get actual values\n",
    "y = test_data['ElecPrice'].values"
   ]
  },
  {
   "cell_type": "code",
   "execution_count": 207,
   "id": "6540cfa0",
   "metadata": {},
   "outputs": [
    {
     "data": {
      "text/plain": [
       "array([1833.   , 1730.49 , 2260.55 , ..., 1445.495,  488.98 ,  -98.985])"
      ]
     },
     "execution_count": 207,
     "metadata": {},
     "output_type": "execute_result"
    }
   ],
   "source": [
    "y"
   ]
  },
  {
   "cell_type": "code",
   "execution_count": 208,
   "id": "1e297389",
   "metadata": {
    "scrolled": true
   },
   "outputs": [
    {
     "data": {
      "text/plain": [
       "1077"
      ]
     },
     "execution_count": 208,
     "metadata": {},
     "output_type": "execute_result"
    }
   ],
   "source": [
    "len(y)"
   ]
  },
  {
   "cell_type": "code",
   "execution_count": 209,
   "id": "384754f0",
   "metadata": {},
   "outputs": [],
   "source": [
    "#The Mean Absolute Percentage Error function\n",
    "def mean_absolute_percentage_error(y_true, y_pred): \n",
    "    y_true, y_pred = np.array(y_true), np.array(y_pred)\n",
    "    return np.mean(np.abs((y_true - y_pred) / y_true)) * 100"
   ]
  },
  {
   "cell_type": "code",
   "execution_count": 210,
   "id": "8c787197",
   "metadata": {},
   "outputs": [
    {
     "name": "stdout",
     "output_type": "stream",
     "text": [
      "The MAPE =\n",
      "{5.41705271101918}\n"
     ]
    }
   ],
   "source": [
    "print(\"The MAPE =\")\n",
    "MAPE(y, y_pred)"
   ]
  },
  {
   "cell_type": "code",
   "execution_count": 192,
   "id": "58d0dce4",
   "metadata": {},
   "outputs": [
    {
     "name": "stdout",
     "output_type": "stream",
     "text": [
      "The RMSE = 3201.74\n"
     ]
    }
   ],
   "source": [
    "from sklearn.metrics import mean_squared_error\n",
    "import math\n",
    "mse = mean_squared_error(y, y_pred)\n",
    "rmse = math.sqrt(mse)\n",
    "print(\"The RMSE = %.2f\" %rmse)"
   ]
  },
  {
   "cell_type": "markdown",
   "id": "e06cf0b7",
   "metadata": {},
   "source": [
    "# Second Prophet"
   ]
  },
  {
   "cell_type": "code",
   "execution_count": 198,
   "id": "61ad2839",
   "metadata": {},
   "outputs": [],
   "source": [
    "new_training_ds = training_data"
   ]
  },
  {
   "cell_type": "code",
   "execution_count": 199,
   "id": "86adbf2d",
   "metadata": {},
   "outputs": [
    {
     "data": {
      "text/html": [
       "<div>\n",
       "<style scoped>\n",
       "    .dataframe tbody tr th:only-of-type {\n",
       "        vertical-align: middle;\n",
       "    }\n",
       "\n",
       "    .dataframe tbody tr th {\n",
       "        vertical-align: top;\n",
       "    }\n",
       "\n",
       "    .dataframe thead th {\n",
       "        text-align: right;\n",
       "    }\n",
       "</style>\n",
       "<table border=\"1\" class=\"dataframe\">\n",
       "  <thead>\n",
       "    <tr style=\"text-align: right;\">\n",
       "      <th></th>\n",
       "      <th>FullDate</th>\n",
       "      <th>Tmax</th>\n",
       "      <th>SysLoad</th>\n",
       "      <th>GasPrice</th>\n",
       "      <th>ElecPrice</th>\n",
       "    </tr>\n",
       "  </thead>\n",
       "  <tbody>\n",
       "    <tr>\n",
       "      <th>0</th>\n",
       "      <td>2010-09-01</td>\n",
       "      <td>379.2</td>\n",
       "      <td>41565.380</td>\n",
       "      <td>88.56</td>\n",
       "      <td>2751.700</td>\n",
       "    </tr>\n",
       "    <tr>\n",
       "      <th>1</th>\n",
       "      <td>2010-09-02</td>\n",
       "      <td>369.6</td>\n",
       "      <td>38898.990</td>\n",
       "      <td>88.56</td>\n",
       "      <td>570.810</td>\n",
       "    </tr>\n",
       "    <tr>\n",
       "      <th>2</th>\n",
       "      <td>2010-09-03</td>\n",
       "      <td>439.2</td>\n",
       "      <td>41665.760</td>\n",
       "      <td>106.80</td>\n",
       "      <td>504.975</td>\n",
       "    </tr>\n",
       "    <tr>\n",
       "      <th>3</th>\n",
       "      <td>2010-09-04</td>\n",
       "      <td>328.8</td>\n",
       "      <td>35638.085</td>\n",
       "      <td>81.36</td>\n",
       "      <td>502.275</td>\n",
       "    </tr>\n",
       "    <tr>\n",
       "      <th>4</th>\n",
       "      <td>2010-09-05</td>\n",
       "      <td>357.6</td>\n",
       "      <td>35611.410</td>\n",
       "      <td>106.80</td>\n",
       "      <td>500.555</td>\n",
       "    </tr>\n",
       "  </tbody>\n",
       "</table>\n",
       "</div>"
      ],
      "text/plain": [
       "    FullDate   Tmax    SysLoad  GasPrice  ElecPrice\n",
       "0 2010-09-01  379.2  41565.380     88.56   2751.700\n",
       "1 2010-09-02  369.6  38898.990     88.56    570.810\n",
       "2 2010-09-03  439.2  41665.760    106.80    504.975\n",
       "3 2010-09-04  328.8  35638.085     81.36    502.275\n",
       "4 2010-09-05  357.6  35611.410    106.80    500.555"
      ]
     },
     "execution_count": 199,
     "metadata": {},
     "output_type": "execute_result"
    }
   ],
   "source": [
    "new_training_ds.head()"
   ]
  },
  {
   "cell_type": "code",
   "execution_count": 200,
   "id": "916719b7",
   "metadata": {},
   "outputs": [],
   "source": [
    "new_training_ds= new_training_ds.rename(columns={ \"FullDate\" : \"ds\" , \"ElecPrice\" : \"y\", \"SysLoad\" : \"add1\", \"Tmax\": \"add2\", \"GasPrice\":\"add3\"})"
   ]
  },
  {
   "cell_type": "code",
   "execution_count": 201,
   "id": "145ba35b",
   "metadata": {},
   "outputs": [
    {
     "data": {
      "text/html": [
       "<div>\n",
       "<style scoped>\n",
       "    .dataframe tbody tr th:only-of-type {\n",
       "        vertical-align: middle;\n",
       "    }\n",
       "\n",
       "    .dataframe tbody tr th {\n",
       "        vertical-align: top;\n",
       "    }\n",
       "\n",
       "    .dataframe thead th {\n",
       "        text-align: right;\n",
       "    }\n",
       "</style>\n",
       "<table border=\"1\" class=\"dataframe\">\n",
       "  <thead>\n",
       "    <tr style=\"text-align: right;\">\n",
       "      <th></th>\n",
       "      <th>ds</th>\n",
       "      <th>add2</th>\n",
       "      <th>add1</th>\n",
       "      <th>add3</th>\n",
       "      <th>y</th>\n",
       "    </tr>\n",
       "  </thead>\n",
       "  <tbody>\n",
       "    <tr>\n",
       "      <th>0</th>\n",
       "      <td>2010-09-01</td>\n",
       "      <td>379.2</td>\n",
       "      <td>41565.380</td>\n",
       "      <td>88.56</td>\n",
       "      <td>2751.700</td>\n",
       "    </tr>\n",
       "    <tr>\n",
       "      <th>1</th>\n",
       "      <td>2010-09-02</td>\n",
       "      <td>369.6</td>\n",
       "      <td>38898.990</td>\n",
       "      <td>88.56</td>\n",
       "      <td>570.810</td>\n",
       "    </tr>\n",
       "    <tr>\n",
       "      <th>2</th>\n",
       "      <td>2010-09-03</td>\n",
       "      <td>439.2</td>\n",
       "      <td>41665.760</td>\n",
       "      <td>106.80</td>\n",
       "      <td>504.975</td>\n",
       "    </tr>\n",
       "    <tr>\n",
       "      <th>3</th>\n",
       "      <td>2010-09-04</td>\n",
       "      <td>328.8</td>\n",
       "      <td>35638.085</td>\n",
       "      <td>81.36</td>\n",
       "      <td>502.275</td>\n",
       "    </tr>\n",
       "    <tr>\n",
       "      <th>4</th>\n",
       "      <td>2010-09-05</td>\n",
       "      <td>357.6</td>\n",
       "      <td>35611.410</td>\n",
       "      <td>106.80</td>\n",
       "      <td>500.555</td>\n",
       "    </tr>\n",
       "  </tbody>\n",
       "</table>\n",
       "</div>"
      ],
      "text/plain": [
       "          ds   add2       add1    add3         y\n",
       "0 2010-09-01  379.2  41565.380   88.56  2751.700\n",
       "1 2010-09-02  369.6  38898.990   88.56   570.810\n",
       "2 2010-09-03  439.2  41665.760  106.80   504.975\n",
       "3 2010-09-04  328.8  35638.085   81.36   502.275\n",
       "4 2010-09-05  357.6  35611.410  106.80   500.555"
      ]
     },
     "execution_count": 201,
     "metadata": {},
     "output_type": "execute_result"
    }
   ],
   "source": [
    "new_training_ds.head()"
   ]
  },
  {
   "cell_type": "code",
   "execution_count": 223,
   "id": "eeac617a",
   "metadata": {},
   "outputs": [
    {
     "name": "stderr",
     "output_type": "stream",
     "text": [
      "INFO:prophet:Disabling daily seasonality. Run prophet with daily_seasonality=True to override this.\n"
     ]
    },
    {
     "data": {
      "text/plain": [
       "<prophet.forecaster.Prophet at 0x2271c893508>"
      ]
     },
     "execution_count": 223,
     "metadata": {},
     "output_type": "execute_result"
    }
   ],
   "source": [
    "#Initializing the prophet model and training\n",
    "second_prophet = Prophet()\n",
    "# second_prophet_training_dataset = second_prophet_training_dataset.add_regressor(second_prophet_training_dataset, 'y')\n",
    "second_prophet.add_regressor('add1')\n",
    "second_prophet.add_regressor('add2')\n",
    "second_prophet.add_regressor('add3')\n",
    "second_prophet.fit(new_training_ds)\n"
   ]
  },
  {
   "cell_type": "code",
   "execution_count": 217,
   "id": "a98b3719",
   "metadata": {},
   "outputs": [
    {
     "data": {
      "image/png": "[encoded data removed]",
      "text/plain": [
       "<Figure size 648x648 with 3 Axes>"
      ]
     },
     "metadata": {},
     "output_type": "display_data"
    }
   ],
   "source": [
    "pro_plots= second_prophet.plot_components(forecast)"
   ]
  },
  {
   "cell_type": "code",
   "execution_count": null,
   "id": "032937a4",
   "metadata": {},
   "outputs": [],
   "source": []
  }
 ],
 "metadata": {
  "kernelspec": {
   "display_name": "Python 3",
   "language": "python",
   "name": "python3"
  },
  "language_info": {
   "codemirror_mode": {
    "name": "ipython",
    "version": 3
   },
   "file_extension": ".py",
   "mimetype": "text/x-python",
   "name": "python",
   "nbconvert_exporter": "python",
   "pygments_lexer": "ipython3",
   "version": "3.7.10"
  }
 },
 "nbformat": 4,
 "nbformat_minor": 5
}
